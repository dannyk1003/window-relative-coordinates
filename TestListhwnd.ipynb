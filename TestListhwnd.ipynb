{
 "cells": [
  {
   "cell_type": "code",
   "execution_count": 1,
   "metadata": {},
   "outputs": [],
   "source": [
    "import win32api, win32gui"
   ]
  },
  {
   "cell_type": "code",
   "execution_count": 42,
   "metadata": {},
   "outputs": [
    {
     "data": {
      "text/plain": [
       "[[395028, '● TestListhwnd.ipynb - FGO_Scrip - Visual Studio Code'],\n",
       " [5967272, 'markjong001.pixnet.net要求下列權限：'],\n",
       " [722872,\n",
       "  '[純教學系列文5]在\"Python\"中 使用 \"array\" (Array) @ 新手小白用Python來做資料分析是否搞錯了什麼 :: 痞客邦 :: - Google Chrome'],\n",
       " [1050238, '工作管理員'],\n",
       " [395254, 'BlueStacks App Player'],\n",
       " [1246802, 'Test'],\n",
       " [131962, 'OmApSvcBroker'],\n",
       " [67486, '設定'],\n",
       " [197870, '設定'],\n",
       " [67226, 'Nahimic'],\n",
       " [1181282, 'Nahimic'],\n",
       " [66474, 'NVIDIA GeForce Overlay'],\n",
       " [131200, 'Windows 輸入體驗'],\n",
       " [66748, '好友 - Discord'],\n",
       " [67132, 'LINE'],\n",
       " [65908, 'Program Manager']]"
      ]
     },
     "execution_count": 42,
     "metadata": {},
     "output_type": "execute_result"
    }
   ],
   "source": [
    "def hwnd_list():    \n",
    "    title = dict()\n",
    "    windows = []\n",
    "    def get_all_title(hwnd, mouse):\n",
    "        if win32gui.IsWindow(hwnd) and win32gui.IsWindowEnabled(hwnd) and win32gui.IsWindowVisible(hwnd):\n",
    "            title.update({hwnd:win32gui.GetWindowText(hwnd)})\n",
    "    mouse = 0\n",
    "    win32gui.EnumWindows(get_all_title,mouse)\n",
    "\n",
    "    for hwnd, title in title.items():\n",
    "        if title != \"\":\n",
    "            # print(hwnd, title)\n",
    "            windows.append([hwnd, title])\n",
    "\n",
    "    return windows\n",
    "\n",
    "hwnds = hwnd_list()\n",
    "hwnds"
   ]
  },
  {
   "cell_type": "code",
   "execution_count": 40,
   "metadata": {},
   "outputs": [
    {
     "name": "stdout",
     "output_type": "stream",
     "text": [
      "['● TestListhwnd.ipynb - FGO_Scrip - Visual Studio Code' 'my window'\n",
      " 'Python tkinter Combobox 用法與範例 | ShengYu Talk - Google Chrome'\n",
      " '從零開始學Python：第二件X折？' '工作管理員' 'BlueStacks App Player' 'Test'\n",
      " 'OmApSvcBroker' '設定' '設定' 'Nahimic' 'Nahimic' 'NVIDIA GeForce Overlay'\n",
      " 'Windows 輸入體驗' '好友 - Discord' 'LINE' 'Program Manager']\n"
     ]
    }
   ],
   "source": [
    "import numpy as np\n",
    "print(np.array(hwnds)[:,1])"
   ]
  },
  {
   "cell_type": "code",
   "execution_count": 44,
   "metadata": {},
   "outputs": [
    {
     "data": {
      "text/plain": [
       "'● TestListhwnd.ipynb - FGO_Scrip - Visual Studio Code'"
      ]
     },
     "execution_count": 44,
     "metadata": {},
     "output_type": "execute_result"
    }
   ],
   "source": [
    "np.array(hwnd_list())[:,1][0]"
   ]
  },
  {
   "cell_type": "code",
   "execution_count": 43,
   "metadata": {},
   "outputs": [
    {
     "data": {
      "text/plain": [
       "{'Qt5154QWindowIcon': 526742}"
      ]
     },
     "execution_count": 43,
     "metadata": {},
     "output_type": "execute_result"
    }
   ],
   "source": [
    "def get_inner_windows(whnd1):\n",
    "    def callback(hwnd, hwnds):\n",
    "        if win32gui.IsWindowVisible(hwnd) and win32gui.IsWindowEnabled(hwnd):\n",
    "            hwnds[win32gui.GetClassName(hwnd)] = hwnd\n",
    "        return True\n",
    "    hwnds = {}\n",
    "    win32gui.EnumChildWindows(whnd1, callback, hwnds)\n",
    "    return hwnds\n",
    "\n",
    "get_inner_windows(395254)"
   ]
  },
  {
   "cell_type": "code",
   "execution_count": 45,
   "metadata": {},
   "outputs": [],
   "source": [
    "def get_hwnd(window_name):\n",
    "    hwnd = win32gui.FindWindow(None, window_name)\n",
    "    # print(get_inner_windows(hwnd))\n",
    "    # hwnd = get_inner_windows(hwnd)['Afx:00007FF6B63C0000:8']\n",
    "    return hwnd"
   ]
  },
  {
   "cell_type": "code",
   "execution_count": 49,
   "metadata": {},
   "outputs": [
    {
     "data": {
      "text/plain": [
       "['WorkerW',\n",
       " 'ReBarWindow32',\n",
       " 'TravelBand',\n",
       " 'ToolbarWindow32',\n",
       " 'UpBand',\n",
       " 'Address Band Root',\n",
       " 'msctls_progress32',\n",
       " 'Breadcrumb Parent',\n",
       " 'SeparatorBand',\n",
       " 'UniversalSearchBand',\n",
       " 'ModernSearchBox',\n",
       " 'ShellTabWindowClass',\n",
       " 'DUIViewWndClassName',\n",
       " 'DirectUIHWND',\n",
       " 'CtrlNotifySink',\n",
       " 'NamespaceTreeControl',\n",
       " 'SysTreeView32',\n",
       " 'SHELLDLL_DefView',\n",
       " 'Windows.UI.Composition.DesktopWindowContentBridge',\n",
       " 'Windows.UI.Input.InputSite.WindowClass']"
      ]
     },
     "execution_count": 49,
     "metadata": {},
     "output_type": "execute_result"
    }
   ],
   "source": [
    "list(get_inner_windows(get_hwnd(np.array(hwnd_list())[:,1][3])))"
   ]
  },
  {
   "cell_type": "code",
   "execution_count": 52,
   "metadata": {},
   "outputs": [
    {
     "name": "stdout",
     "output_type": "stream",
     "text": [
      " China\n",
      " Australia\n",
      " Malaysia\n"
     ]
    }
   ],
   "source": [
    "import tkinter as tk \n",
    "from tkinter import ttk \n",
    "  \n",
    "# Creating tkinter window and set dimensions\n",
    "window = tk.Tk() \n",
    "window.title('Combobox') \n",
    "window.geometry('500x250')\n",
    "\n",
    "def callbackFunc(event):\n",
    "     country = event.widget.get()\n",
    "     print(country)\n",
    "     \n",
    "# label text for title \n",
    "ttk.Label(window, text = \"Choose the country and vote for them\",  \n",
    "          background = 'cyan', foreground =\"black\",  \n",
    "          font = (\"Times New Roman\", 15)).grid(row = 0, column = 1) \n",
    "  \n",
    "# Set label \n",
    "ttk.Label(window, text = \"Select the Country :\", \n",
    "          font = (\"Times New Roman\", 12)).grid(column = 0, \n",
    "          row = 5, padx = 5, pady = 25)\n",
    "\n",
    "  \n",
    "# Create Combobox\n",
    "n = tk.StringVar() \n",
    "country = ttk.Combobox(window, width = 27, textvariable = n) \n",
    "  \n",
    "# Adding combobox drop down list \n",
    "country['values'] = (' India',  \n",
    "                          ' China', \n",
    "                          ' Australia', \n",
    "                          ' Nigeria', \n",
    "                          ' Malaysia', \n",
    "                          ' Italy', \n",
    "                          ' Turkey', \n",
    "                          ' Canada') \n",
    "  \n",
    "country.grid(column = 1, row = 5) \n",
    "country.current()\n",
    "country.bind(\"<<ComboboxSelected>>\", callbackFunc)\n",
    "\n",
    "window.mainloop() "
   ]
  },
  {
   "cell_type": "code",
   "execution_count": 27,
   "metadata": {},
   "outputs": [
    {
     "name": "stdout",
     "output_type": "stream",
     "text": [
      "9 OmApSvcBroker\n"
     ]
    }
   ],
   "source": [
    "import tkinter as tk\n",
    "import tkinter.messagebox as msg # messagebox要另行匯入，否則會出錯。\n",
    "from tkinter import ttk\n",
    "import win32api, win32gui\n",
    "import numpy as np\n",
    "import time\n",
    "\n",
    "\n",
    "def hwnd_list():   \n",
    "    title = dict()\n",
    "    windows = []\n",
    "    def get_all_title(hwnd, mouse):\n",
    "        if win32gui.IsWindow(hwnd) and win32gui.IsWindowEnabled(hwnd) and win32gui.IsWindowVisible(hwnd):\n",
    "            title.update({hwnd:win32gui.GetWindowText(hwnd)})\n",
    "    mouse = 0\n",
    "    win32gui.EnumWindows(get_all_title,mouse)\n",
    "\n",
    "    for hwnd, title in title.items():\n",
    "        if title != \"\":\n",
    "            windows.append([hwnd, title])\n",
    "\n",
    "    return windows\n",
    "\n",
    "\n",
    "def get_inner_windows(whnd1):\n",
    "    def callback(hwnd, hwnds):\n",
    "        if win32gui.IsWindowVisible(hwnd) and win32gui.IsWindowEnabled(hwnd):\n",
    "            hwnds[win32gui.GetClassName(hwnd)] = hwnd\n",
    "        return True\n",
    "    hwnds = {}\n",
    "    hwnds_list = []\n",
    "    win32gui.EnumChildWindows(whnd1, callback, hwnds)\n",
    "\n",
    "    for hwnd, title in hwnds.items():\n",
    "        hwnds_list.append([hwnd, title])\n",
    "    return [hwnds_list, hwnds]\n",
    "\n",
    "\n",
    "\n",
    "\n",
    "\n",
    "def get_hwnd(window_name):\n",
    "    hwnd = win32gui.FindWindow(None, window_name)\n",
    "    # print(get_inner_windows(hwnd))\n",
    "    # hwnd = get_inner_windows(hwnd)['Afx:00007FF6B63C0000:8']\n",
    "    return hwnd\n",
    "\n",
    "\n",
    "def get_inner_hwnd(window_name, inner_window_name):\n",
    "    hwnd = get_hwnd(window_name)\n",
    "    hwnd = get_inner_windows(hwnd)[1][inner_window_name]\n",
    "    return hwnd\n",
    "\n",
    "\n",
    "def positionInWindow(hwnd):\n",
    "    tempt = win32api.GetCursorPos()\n",
    "    # print('tempt',tempt)\n",
    "\n",
    "    windowRec = win32gui.GetWindowRect(hwnd)\n",
    "    # print('windowRec', windowRec)\n",
    "\n",
    "    x = tempt[0] - windowRec[0]\n",
    "    y = tempt[1] - windowRec[1]\n",
    "    # print('position', x, y)\n",
    "    return [x, y]\n",
    "\n",
    "     \n",
    "root = tk.Tk()\n",
    "root.title('my window')\n",
    "root.geometry('700x500')\n",
    "\n",
    "\n",
    "def combobox_selected(event):\n",
    "    print(mycombobox.current(), comboboxText.get())\n",
    "    hwnd_Text.set('the window name is ' + comboboxText.get())\n",
    "    mycombobox1_list = get_inner_windows(get_hwnd(comboboxText.get()))[0]\n",
    "    if mycombobox1_list == []:\n",
    "        mycombobox1_list = [comboboxText.get()]\n",
    "    else:\n",
    "        mycombobox1_list = list(np.array(get_inner_windows(get_hwnd(comboboxText.get()))[0])[:,0])\n",
    "        \n",
    "    mycombobox1['values'] = mycombobox1_list\n",
    "\n",
    "\n",
    "def combobox_selected1(event):\n",
    "    inner_hwnd_Text.set('the inner window name is ' + comboboxText1.get())\n",
    "\n",
    "    time.sleep(2)\n",
    "\n",
    "    if mycombobox.get() == mycombobox1.get():\n",
    "        position = positionInWindow(get_hwnd(comboboxText.get()))\n",
    "    else:\n",
    "        position = positionInWindow(get_inner_hwnd(mycombobox.get(), mycombobox1.get()))\n",
    "    positionText.set(f'position is : {position}')\n",
    "\n",
    "\n",
    "\n",
    "\n",
    "\n",
    "\n",
    "\n",
    "hwndList = hwnd_list()\n",
    "\n",
    "\n",
    "# 建立第一個選單，選視窗\n",
    "comboboxText = tk.StringVar()\n",
    "mycombobox = ttk.Combobox(root, textvariable=comboboxText, state='readonly', width=40)\n",
    "mycombobox['values'] = list(np.array(hwndList)[:,1])\n",
    "mycombobox.grid(row=1, column=1)\n",
    "\n",
    "hwnd_Text = tk.StringVar()\n",
    "mylabel = tk.Label(root, textvariable=hwnd_Text, height=5, font=('Arial', 12))\n",
    "mylabel.grid(row=2, column=1)\n",
    "\n",
    "\n",
    "comboboxText1 = tk.StringVar()\n",
    "mycombobox1 = ttk.Combobox(root, textvariable=comboboxText1, state='readonly', width=40)\n",
    "mycombobox1.grid(row=3, column=1)\n",
    "\n",
    "mycombobox.bind(\"<<ComboboxSelected>>\", combobox_selected)\n",
    "\n",
    "\n",
    "inner_hwnd_Text = tk.StringVar()\n",
    "mylabel1 = tk.Label(root, textvariable=inner_hwnd_Text, height=5, font=('Arial', 12))\n",
    "mylabel1.grid(row=4, column=1)\n",
    "\n",
    "mycombobox1.bind(\"<<ComboboxSelected>>\", combobox_selected1)\n",
    "\n",
    "\n",
    "positionText = tk.StringVar()\n",
    "positionlabel = tk.Label(root, textvariable = positionText, height=5, font=('Arial', 12))\n",
    "positionlabel.grid(row=5, column=1)\n",
    "\n",
    "\n",
    "\n",
    "root.mainloop()"
   ]
  },
  {
   "cell_type": "code",
   "execution_count": 80,
   "metadata": {},
   "outputs": [
    {
     "data": {
      "text/plain": [
       "[[395028, '● TestListhwnd.ipynb - FGO_Scrip - Visual Studio Code'],\n",
       " [722872, 'tkinter创建Combobox联动_Akari0216的博客-CSDN博客 - Google Chrome'],\n",
       " [1050238, '工作管理員'],\n",
       " [395254, 'BlueStacks App Player'],\n",
       " [1246802, 'Test'],\n",
       " [131962, 'OmApSvcBroker'],\n",
       " [67486, '設定'],\n",
       " [197870, '設定'],\n",
       " [67226, 'Nahimic'],\n",
       " [1181282, 'Nahimic'],\n",
       " [66474, 'NVIDIA GeForce Overlay'],\n",
       " [131200, 'Windows 輸入體驗'],\n",
       " [66748, '好友 - Discord'],\n",
       " [67132, 'LINE'],\n",
       " [65908, 'Program Manager']]"
      ]
     },
     "execution_count": 80,
     "metadata": {},
     "output_type": "execute_result"
    }
   ],
   "source": [
    "hwndList"
   ]
  },
  {
   "cell_type": "code",
   "execution_count": 122,
   "metadata": {},
   "outputs": [
    {
     "data": {
      "text/plain": [
       "{'WorkerW': 198920,\n",
       " 'ReBarWindow32': 198918,\n",
       " 'TravelBand': 133334,\n",
       " 'ToolbarWindow32': 264448,\n",
       " 'UpBand': 133346,\n",
       " 'Address Band Root': 133330,\n",
       " 'msctls_progress32': 133364,\n",
       " 'Breadcrumb Parent': 133390,\n",
       " 'SeparatorBand': 133368,\n",
       " 'UniversalSearchBand': 198824,\n",
       " 'ModernSearchBox': 133366,\n",
       " 'ShellTabWindowClass': 264452,\n",
       " 'DUIViewWndClassName': 133314,\n",
       " 'DirectUIHWND': 330100,\n",
       " 'CtrlNotifySink': 330098,\n",
       " 'NamespaceTreeControl': 133438,\n",
       " 'SysTreeView32': 133430,\n",
       " 'SHELLDLL_DefView': 460970,\n",
       " 'Windows.UI.Composition.DesktopWindowContentBridge': 198816,\n",
       " 'Windows.UI.Input.InputSite.WindowClass': 198818}"
      ]
     },
     "execution_count": 122,
     "metadata": {},
     "output_type": "execute_result"
    }
   ],
   "source": [
    "get_inner_windows(1246802)[1]"
   ]
  },
  {
   "cell_type": "code",
   "execution_count": 107,
   "metadata": {},
   "outputs": [
    {
     "data": {
      "text/plain": [
       "array(['WorkerW', 'ReBarWindow32', 'TravelBand', 'ToolbarWindow32',\n",
       "       'UpBand', 'Address Band Root', 'msctls_progress32',\n",
       "       'Breadcrumb Parent', 'SeparatorBand', 'UniversalSearchBand',\n",
       "       'ModernSearchBox', 'ShellTabWindowClass', 'DUIViewWndClassName',\n",
       "       'DirectUIHWND', 'CtrlNotifySink', 'NamespaceTreeControl',\n",
       "       'SysTreeView32', 'SHELLDLL_DefView',\n",
       "       'Windows.UI.Composition.DesktopWindowContentBridge',\n",
       "       'Windows.UI.Input.InputSite.WindowClass'], dtype='<U49')"
      ]
     },
     "execution_count": 107,
     "metadata": {},
     "output_type": "execute_result"
    }
   ],
   "source": [
    "np.array(get_inner_windows(1246802))[:,0]"
   ]
  },
  {
   "cell_type": "code",
   "execution_count": 137,
   "metadata": {},
   "outputs": [
    {
     "data": {
      "text/plain": [
       "['WorkerW',\n",
       " 'ReBarWindow32',\n",
       " 'TravelBand',\n",
       " 'ToolbarWindow32',\n",
       " 'UpBand',\n",
       " 'Address Band Root',\n",
       " 'msctls_progress32',\n",
       " 'Breadcrumb Parent',\n",
       " 'SeparatorBand',\n",
       " 'UniversalSearchBand',\n",
       " 'ModernSearchBox',\n",
       " 'ShellTabWindowClass',\n",
       " 'DUIViewWndClassName',\n",
       " 'DirectUIHWND',\n",
       " 'CtrlNotifySink',\n",
       " 'NamespaceTreeControl',\n",
       " 'SysTreeView32',\n",
       " 'SHELLDLL_DefView',\n",
       " 'Windows.UI.Composition.DesktopWindowContentBridge',\n",
       " 'Windows.UI.Input.InputSite.WindowClass']"
      ]
     },
     "execution_count": 137,
     "metadata": {},
     "output_type": "execute_result"
    }
   ],
   "source": [
    "list(np.array(get_inner_windows(get_hwnd('Test'))[0])[:,0])"
   ]
  },
  {
   "cell_type": "code",
   "execution_count": 135,
   "metadata": {},
   "outputs": [
    {
     "data": {
      "text/plain": [
       "198920"
      ]
     },
     "execution_count": 135,
     "metadata": {},
     "output_type": "execute_result"
    }
   ],
   "source": [
    "get_inner_hwnd('Test', 'WorkerW')"
   ]
  },
  {
   "cell_type": "code",
   "execution_count": 145,
   "metadata": {},
   "outputs": [
    {
     "data": {
      "text/plain": [
       "[365, 183]"
      ]
     },
     "execution_count": 145,
     "metadata": {},
     "output_type": "execute_result"
    }
   ],
   "source": [
    "positionInWindow(198918)"
   ]
  },
  {
   "cell_type": "code",
   "execution_count": 153,
   "metadata": {},
   "outputs": [
    {
     "name": "stdout",
     "output_type": "stream",
     "text": [
      "4 BlueStacks App Player\n"
     ]
    }
   ],
   "source": [
    "import tkinter as tk\n",
    "from tkinter import ttk\n",
    "import win32api, win32gui, win32ui, win32con\n",
    "import numpy as np\n",
    "import time\n",
    "\n",
    "\n",
    "def get_all_windows():\n",
    "    '''\n",
    "    Return all hwnds\n",
    "    '''\n",
    "    all_hwnds_dict = dict()\n",
    "    hwnds_dict = dict()\n",
    "    hwnds_list = list()\n",
    "    def get_all_title(hwnd, mouse):\n",
    "        if win32gui.IsWindow(hwnd) and win32gui.IsWindowEnabled(hwnd) and win32gui.IsWindowVisible(hwnd):\n",
    "            all_hwnds_dict.update({hwnd:win32gui.GetWindowText(hwnd)})\n",
    "    mouse = 0\n",
    "    win32gui.EnumWindows(get_all_title,mouse)\n",
    "\n",
    "    for hwnd, title in all_hwnds_dict.items():\n",
    "        if title != \"\":\n",
    "            hwnds_list.append([hwnd, title])\n",
    "            hwnds_dict.update({hwnd: title})\n",
    "\n",
    "\n",
    "    return [hwnds_list, hwnds_dict]\n",
    "\n",
    "\n",
    "def get_inner_windows(hwnd):\n",
    "    '''\n",
    "    Return all inner hwnds\n",
    "    '''\n",
    "    def callback(hwnd, hwnds):\n",
    "        if win32gui.IsWindowVisible(hwnd) and win32gui.IsWindowEnabled(hwnd):\n",
    "            hwnds[win32gui.GetClassName(hwnd)] = hwnd\n",
    "        return True\n",
    "    hwnds_dict = {}\n",
    "    hwnds_list = []\n",
    "    win32gui.EnumChildWindows(hwnd, callback, hwnds_dict)\n",
    "\n",
    "    for hwnd, title in hwnds_dict.items():\n",
    "        hwnds_list.append([hwnd, title])\n",
    "    return [hwnds_list, hwnds_dict]\n",
    "\n",
    "\n",
    "def get_hwnd(window_name):\n",
    "    '''\n",
    "    Use window name get it's hwnd\n",
    "    '''\n",
    "    hwnd = win32gui.FindWindow(None, window_name)\n",
    "    return hwnd\n",
    "\n",
    "\n",
    "def get_inner_hwnd(window_name, inner_window_name):\n",
    "    '''\n",
    "    Use inner window name gwt it's hwnd\n",
    "    '''\n",
    "    hwnd = get_hwnd(window_name)\n",
    "    hwnd = get_inner_windows(hwnd)[1][inner_window_name]\n",
    "    return hwnd\n",
    "\n",
    "\n",
    "def positionInWindow(hwnd):\n",
    "    '''\n",
    "    Get the position in specific window\n",
    "    '''\n",
    "    tempt = win32api.GetCursorPos()\n",
    "    windowRec = win32gui.GetWindowRect(hwnd)\n",
    "\n",
    "    x = tempt[0] - windowRec[0]\n",
    "    y = tempt[1] - windowRec[1]\n",
    "    return [x, y]\n",
    "\n",
    "\n",
    "def positionInScreen():\n",
    "    tempt = win32api.GetCursorPos()\n",
    "    x, y = tempt[0], tempt[1]\n",
    "    return [x, y]\n",
    "\n",
    "\n",
    "def positionColor(hwnd, x, y):\n",
    "    hdc = win32gui.GetWindowDC(hwnd)\n",
    "    color = win32gui.GetPixel(hdc, x, y)\n",
    "    Blue =  color & 255\n",
    "    Green = (color >> 8) & 255\n",
    "    Red =   (color >> 16) & 255\n",
    "    return color\n",
    "\n",
    "\n",
    "def hwnd_combobox_func(event):\n",
    "    print(hwnd_combobox.current(), hwnd_combobox_Text.get())\n",
    "    hwnd_Text.set('the window name is ' + hwnd_combobox_Text.get())\n",
    "    inner_hwnd_combobox_list = get_inner_windows(get_hwnd(hwnd_combobox_Text.get()))[0]\n",
    "    if inner_hwnd_combobox_list == []:\n",
    "        inner_hwnd_combobox_list = [hwnd_combobox_Text.get()]\n",
    "    else:\n",
    "        inner_hwnd_combobox_list = list(np.array(get_inner_windows(get_hwnd(hwnd_combobox_Text.get()))[0])[:,0])\n",
    "        \n",
    "    inner_hwnd_combobox['values'] = inner_hwnd_combobox_list\n",
    "\n",
    "\n",
    "def inner_hwnd_combobox_func(event):\n",
    "    inner_hwnd_Text.set('the inner window name is ' + inner_hwnd_combobox_Text.get())\n",
    "\n",
    "    time.sleep(2)\n",
    "\n",
    "    if hwnd_combobox.get() == inner_hwnd_combobox.get():\n",
    "        position = positionInWindow(get_hwnd(hwnd_combobox_Text.get()))\n",
    "    else:\n",
    "        position = positionInWindow(get_inner_hwnd(hwnd_combobox.get(), inner_hwnd_combobox.get()))\n",
    "    position_Text.set(f'position is : {position}')\n",
    "\n",
    "\n",
    "n = 0\n",
    "def position_func(event):\n",
    "    global n\n",
    "    n += 1\n",
    "    if hwnd_combobox.get() == inner_hwnd_combobox.get():\n",
    "        position = positionInWindow(get_hwnd(hwnd_combobox_Text.get()))\n",
    "    else:\n",
    "        position = positionInWindow(get_inner_hwnd(hwnd_combobox.get(), inner_hwnd_combobox.get()))\n",
    "    position_Text.set(f'position is : {position}')\n",
    "    position_history.configure(state='normal')\n",
    "    position_history.insert('insert', f'{n}. position : {position} \\n')\n",
    "    position_history.configure(state='disabled')\n",
    "    \n",
    "\n",
    "root = tk.Tk()\n",
    "root.title('my window position detector')\n",
    "root.geometry('700x500')\n",
    "\n",
    "\n",
    "# all hwnds combobox\n",
    "hwnd_combobox_Text = tk.StringVar()\n",
    "hwnd_combobox = ttk.Combobox(root, textvariable=hwnd_combobox_Text, state='readonly', width=40)\n",
    "hwnd_combobox['values'] = list(np.array(get_all_windows()[0])[:,1])\n",
    "hwnd_combobox.grid(row=1, column=1)\n",
    "\n",
    "hwnd_Text = tk.StringVar()\n",
    "hwnd_label = tk.Label(root, textvariable=hwnd_Text, font=('Arial', 12))\n",
    "hwnd_label.grid(row=2, column=1)\n",
    "\n",
    "\n",
    "# all inner hwnds combobox\n",
    "inner_hwnd_combobox_Text = tk.StringVar()\n",
    "inner_hwnd_combobox = ttk.Combobox(root, textvariable=inner_hwnd_combobox_Text, state='readonly', width=40)\n",
    "inner_hwnd_combobox.grid(row=3, column=1)\n",
    "\n",
    "hwnd_combobox.bind(\"<<ComboboxSelected>>\", hwnd_combobox_func)\n",
    "\n",
    "inner_hwnd_Text = tk.StringVar()\n",
    "inner_hwnd_label = tk.Label(root, textvariable=inner_hwnd_Text,font=('Arial', 12))\n",
    "inner_hwnd_label.grid(row=4, column=1)\n",
    "\n",
    "inner_hwnd_combobox.bind(\"<<ComboboxSelected>>\", inner_hwnd_combobox_func)\n",
    "\n",
    "\n",
    "# return the position\n",
    "position_Text = tk.StringVar()\n",
    "positionlabel = tk.Label(root, textvariable=position_Text,font=('Arial', 12))\n",
    "positionlabel.grid(row=5, column=1)\n",
    "\n",
    "root.bind('<Control-z>', position_func)\n",
    "\n",
    "\n",
    "position_history = tk.Text(root)\n",
    "position_history.grid(row=6, column=1)\n",
    "position_history.insert('insert', 'position history as below\\n')\n",
    "position_history.configure(state='disabled')\n",
    "\n",
    "\n",
    "# main()\n",
    "root.mainloop()"
   ]
  },
  {
   "cell_type": "code",
   "execution_count": 146,
   "metadata": {},
   "outputs": [
    {
     "ename": "NameError",
     "evalue": "name 'DesktopWindow' is not defined",
     "output_type": "error",
     "traceback": [
      "\u001b[1;31m---------------------------------------------------------------------------\u001b[0m",
      "\u001b[1;31mNameError\u001b[0m                                 Traceback (most recent call last)",
      "\u001b[1;32mc:\\workspace\\window-relative-coordinates\\TestListhwnd.ipynb Cell 17\u001b[0m in \u001b[0;36m<cell line: 1>\u001b[1;34m()\u001b[0m\n\u001b[1;32m----> <a href='vscode-notebook-cell:/c%3A/workspace/window-relative-coordinates/TestListhwnd.ipynb#X44sZmlsZQ%3D%3D?line=0'>1</a>\u001b[0m DesktopWindow()\n",
      "\u001b[1;31mNameError\u001b[0m: name 'DesktopWindow' is not defined"
     ]
    }
   ],
   "source": []
  },
  {
   "cell_type": "code",
   "execution_count": 145,
   "metadata": {},
   "outputs": [
    {
     "data": {
      "text/plain": [
       "65552"
      ]
     },
     "execution_count": 145,
     "metadata": {},
     "output_type": "execute_result"
    }
   ],
   "source": [
    "win32gui.GetDesktopWindow()"
   ]
  },
  {
   "cell_type": "code",
   "execution_count": 152,
   "metadata": {},
   "outputs": [
    {
     "ename": "error",
     "evalue": "(0, 'GetPixel', 'No error message is available')",
     "output_type": "error",
     "traceback": [
      "\u001b[1;31m---------------------------------------------------------------------------\u001b[0m",
      "\u001b[1;31merror\u001b[0m                                     Traceback (most recent call last)",
      "\u001b[1;32mc:\\workspace\\window-relative-coordinates\\TestListhwnd.ipynb Cell 19\u001b[0m in \u001b[0;36m<cell line: 1>\u001b[1;34m()\u001b[0m\n\u001b[1;32m----> <a href='vscode-notebook-cell:/c%3A/workspace/window-relative-coordinates/TestListhwnd.ipynb#X42sZmlsZQ%3D%3D?line=0'>1</a>\u001b[0m positionColor(\u001b[39m6358000\u001b[39;49m, \u001b[39m100\u001b[39;49m, \u001b[39m100\u001b[39;49m)\n",
      "\u001b[1;32mc:\\workspace\\window-relative-coordinates\\TestListhwnd.ipynb Cell 19\u001b[0m in \u001b[0;36mpositionColor\u001b[1;34m(hwnd, x, y)\u001b[0m\n\u001b[0;32m     <a href='vscode-notebook-cell:/c%3A/workspace/window-relative-coordinates/TestListhwnd.ipynb#X42sZmlsZQ%3D%3D?line=81'>82</a>\u001b[0m \u001b[39mdef\u001b[39;00m \u001b[39mpositionColor\u001b[39m(hwnd, x, y):\n\u001b[0;32m     <a href='vscode-notebook-cell:/c%3A/workspace/window-relative-coordinates/TestListhwnd.ipynb#X42sZmlsZQ%3D%3D?line=82'>83</a>\u001b[0m     hdc \u001b[39m=\u001b[39m win32gui\u001b[39m.\u001b[39mGetWindowDC(hwnd)\n\u001b[1;32m---> <a href='vscode-notebook-cell:/c%3A/workspace/window-relative-coordinates/TestListhwnd.ipynb#X42sZmlsZQ%3D%3D?line=83'>84</a>\u001b[0m     color \u001b[39m=\u001b[39m win32gui\u001b[39m.\u001b[39;49mGetPixel(hdc, x, y)\n\u001b[0;32m     <a href='vscode-notebook-cell:/c%3A/workspace/window-relative-coordinates/TestListhwnd.ipynb#X42sZmlsZQ%3D%3D?line=84'>85</a>\u001b[0m     Blue \u001b[39m=\u001b[39m  color \u001b[39m&\u001b[39m \u001b[39m255\u001b[39m\n\u001b[0;32m     <a href='vscode-notebook-cell:/c%3A/workspace/window-relative-coordinates/TestListhwnd.ipynb#X42sZmlsZQ%3D%3D?line=85'>86</a>\u001b[0m     Green \u001b[39m=\u001b[39m (color \u001b[39m>>\u001b[39m \u001b[39m8\u001b[39m) \u001b[39m&\u001b[39m \u001b[39m255\u001b[39m\n",
      "\u001b[1;31merror\u001b[0m: (0, 'GetPixel', 'No error message is available')"
     ]
    }
   ],
   "source": [
    "positionColor(6358000, 100, 100)"
   ]
  },
  {
   "cell_type": "code",
   "execution_count": 142,
   "metadata": {},
   "outputs": [
    {
     "data": {
      "text/plain": [
       "[[[395028,\n",
       "   '● TestListhwnd.ipynb - window-relative-coordinates - Visual Studio Code'],\n",
       "  [722872, 'Python pyautogui window handle - Stack Overflow - Google Chrome'],\n",
       "  [6358000, '剪取工具'],\n",
       "  [395254, 'BlueStacks App Player'],\n",
       "  [67132, 'LINE'],\n",
       "  [789278, 'Test'],\n",
       "  [1444632, '剪取工具'],\n",
       "  [462286, '設定'],\n",
       "  [1246802, 'window-relative-coordinates'],\n",
       "  [66748, '#general | 糞game++ - Discord'],\n",
       "  [1050238, '工作管理員'],\n",
       "  [131962, 'OmApSvcBroker'],\n",
       "  [66474, 'NVIDIA GeForce Overlay'],\n",
       "  [131200, 'Windows 輸入體驗'],\n",
       "  [65908, 'Program Manager']],\n",
       " {395028: '● TestListhwnd.ipynb - window-relative-coordinates - Visual Studio Code',\n",
       "  722872: 'Python pyautogui window handle - Stack Overflow - Google Chrome',\n",
       "  6358000: '剪取工具',\n",
       "  395254: 'BlueStacks App Player',\n",
       "  67132: 'LINE',\n",
       "  789278: 'Test',\n",
       "  1444632: '剪取工具',\n",
       "  462286: '設定',\n",
       "  1246802: 'window-relative-coordinates',\n",
       "  66748: '#general | 糞game++ - Discord',\n",
       "  1050238: '工作管理員',\n",
       "  131962: 'OmApSvcBroker',\n",
       "  66474: 'NVIDIA GeForce Overlay',\n",
       "  131200: 'Windows 輸入體驗',\n",
       "  65908: 'Program Manager'}]"
      ]
     },
     "execution_count": 142,
     "metadata": {},
     "output_type": "execute_result"
    }
   ],
   "source": [
    "def get_all_windows():\n",
    "    '''\n",
    "    return all hwnds\n",
    "    '''\n",
    "    all_hwnds_dict = dict()\n",
    "    hwnds_dict = dict()\n",
    "    hwnds_list = list()\n",
    "    def get_all_title(hwnd, mouse):\n",
    "        if win32gui.IsWindow(hwnd) and win32gui.IsWindowEnabled(hwnd) and win32gui.IsWindowVisible(hwnd):\n",
    "            all_hwnds_dict.update({hwnd:win32gui.GetWindowText(hwnd)})\n",
    "    mouse = 0\n",
    "    win32gui.EnumWindows(get_all_title,mouse)\n",
    "\n",
    "    for hwnd, title in all_hwnds_dict.items():\n",
    "        if title != \"\":\n",
    "            hwnds_list.append([hwnd, title])\n",
    "            hwnds_dict.update({hwnd: title})\n",
    "\n",
    "\n",
    "    return [hwnds_list, hwnds_dict]\n",
    "\n",
    "\n",
    "get_all_windows()"
   ]
  },
  {
   "cell_type": "code",
   "execution_count": 122,
   "metadata": {},
   "outputs": [
    {
     "ename": "error",
     "evalue": "(0, 'GetPixel', 'No error message is available')",
     "output_type": "error",
     "traceback": [
      "\u001b[1;31m---------------------------------------------------------------------------\u001b[0m",
      "\u001b[1;31merror\u001b[0m                                     Traceback (most recent call last)",
      "\u001b[1;32mc:\\workspace\\window-relative-coordinates\\TestListhwnd.ipynb Cell 19\u001b[0m in \u001b[0;36m<cell line: 1>\u001b[1;34m()\u001b[0m\n\u001b[1;32m----> <a href='vscode-notebook-cell:/c%3A/workspace/window-relative-coordinates/TestListhwnd.ipynb#X34sZmlsZQ%3D%3D?line=0'>1</a>\u001b[0m win32gui\u001b[39m.\u001b[39;49mGetPixel(\u001b[39m1444632\u001b[39;49m, \u001b[39m50\u001b[39;49m, \u001b[39m50\u001b[39;49m)\n",
      "\u001b[1;31merror\u001b[0m: (0, 'GetPixel', 'No error message is available')"
     ]
    }
   ],
   "source": [
    "win32gui.GetPixel(1444632, 50, 50)"
   ]
  },
  {
   "cell_type": "code",
   "execution_count": 125,
   "metadata": {},
   "outputs": [
    {
     "ename": "ModuleNotFoundError",
     "evalue": "No module named 'minwinpy'",
     "output_type": "error",
     "traceback": [
      "\u001b[1;31m---------------------------------------------------------------------------\u001b[0m",
      "\u001b[1;31mModuleNotFoundError\u001b[0m                       Traceback (most recent call last)",
      "\u001b[1;32mc:\\workspace\\window-relative-coordinates\\TestListhwnd.ipynb Cell 20\u001b[0m in \u001b[0;36m<cell line: 1>\u001b[1;34m()\u001b[0m\n\u001b[1;32m----> <a href='vscode-notebook-cell:/c%3A/workspace/window-relative-coordinates/TestListhwnd.ipynb#X35sZmlsZQ%3D%3D?line=0'>1</a>\u001b[0m \u001b[39mfrom\u001b[39;00m \u001b[39mminwinpy\u001b[39;00m \u001b[39mimport\u001b[39;00m minwinpy\n\u001b[0;32m      <a href='vscode-notebook-cell:/c%3A/workspace/window-relative-coordinates/TestListhwnd.ipynb#X35sZmlsZQ%3D%3D?line=2'>3</a>\u001b[0m \u001b[39m#x, y pixel to get RGB color \u001b[39;00m\n\u001b[0;32m      <a href='vscode-notebook-cell:/c%3A/workspace/window-relative-coordinates/TestListhwnd.ipynb#X35sZmlsZQ%3D%3D?line=3'>4</a>\u001b[0m pos\u001b[39m=\u001b[39m[\u001b[39m497\u001b[39m,\u001b[39m72\u001b[39m]\n",
      "\u001b[1;31mModuleNotFoundError\u001b[0m: No module named 'minwinpy'"
     ]
    }
   ],
   "source": []
  },
  {
   "cell_type": "code",
   "execution_count": 19,
   "metadata": {},
   "outputs": [],
   "source": [
    "a = list()\n",
    "b = dict()"
   ]
  },
  {
   "cell_type": "code",
   "execution_count": 21,
   "metadata": {},
   "outputs": [
    {
     "data": {
      "text/plain": [
       "[]"
      ]
     },
     "execution_count": 21,
     "metadata": {},
     "output_type": "execute_result"
    }
   ],
   "source": [
    "a"
   ]
  },
  {
   "cell_type": "code",
   "execution_count": 20,
   "metadata": {},
   "outputs": [
    {
     "data": {
      "text/plain": [
       "list"
      ]
     },
     "execution_count": 20,
     "metadata": {},
     "output_type": "execute_result"
    }
   ],
   "source": [
    "type(a)"
   ]
  },
  {
   "cell_type": "code",
   "execution_count": 13,
   "metadata": {},
   "outputs": [
    {
     "data": {
      "text/plain": [
       "dict"
      ]
     },
     "execution_count": 13,
     "metadata": {},
     "output_type": "execute_result"
    }
   ],
   "source": [
    "type(b)"
   ]
  },
  {
   "cell_type": "code",
   "execution_count": 42,
   "metadata": {},
   "outputs": [
    {
     "name": "stdout",
     "output_type": "stream",
     "text": [
      "event.char =  \u0001\n",
      "event.keycode =  65\n",
      "event.char =  \u0001\n",
      "event.keycode =  65\n",
      "event.char =  \u0001\n",
      "event.keycode =  65\n"
     ]
    }
   ],
   "source": [
    "import tkinter\n",
    "\n",
    "win = tkinter.Tk()\n",
    "\n",
    "win.title('test')\n",
    "win.geometry('400x400+200+20')\n",
    "\n",
    "\n",
    "def func(event):\n",
    "    print('event.char = ', event.char)\n",
    "    print('event.keycode = ', event.keycode)\n",
    "\n",
    "# <Control-Alt-a>\n",
    "win.bind('<Control-a>', func)\n",
    "\n",
    "win.mainloop()"
   ]
  },
  {
   "cell_type": "code",
   "execution_count": 1,
   "metadata": {},
   "outputs": [
    {
     "ename": "ModuleNotFoundError",
     "evalue": "No module named 'Tkinter'",
     "output_type": "error",
     "traceback": [
      "\u001b[1;31m---------------------------------------------------------------------------\u001b[0m",
      "\u001b[1;31mModuleNotFoundError\u001b[0m                       Traceback (most recent call last)",
      "\u001b[1;32mc:\\workspace\\window-relative-coordinates\\TestListhwnd.ipynb Cell 28\u001b[0m in \u001b[0;36m<cell line: 1>\u001b[1;34m()\u001b[0m\n\u001b[1;32m----> <a href='vscode-notebook-cell:/c%3A/workspace/window-relative-coordinates/TestListhwnd.ipynb#X36sZmlsZQ%3D%3D?line=0'>1</a>\u001b[0m \u001b[39mfrom\u001b[39;00m \u001b[39mTkinter\u001b[39;00m \u001b[39mimport\u001b[39;00m \u001b[39m*\u001b[39m\n\u001b[0;32m      <a href='vscode-notebook-cell:/c%3A/workspace/window-relative-coordinates/TestListhwnd.ipynb#X36sZmlsZQ%3D%3D?line=1'>2</a>\u001b[0m root \u001b[39m=\u001b[39m Tk()\n\u001b[0;32m      <a href='vscode-notebook-cell:/c%3A/workspace/window-relative-coordinates/TestListhwnd.ipynb#X36sZmlsZQ%3D%3D?line=2'>3</a>\u001b[0m \u001b[39m#左對齊，文字居中\u001b[39;00m\n",
      "\u001b[1;31mModuleNotFoundError\u001b[0m: No module named 'Tkinter'"
     ]
    }
   ],
   "source": []
  }
 ],
 "metadata": {
  "kernelspec": {
   "display_name": "Python 3.8.10 64-bit",
   "language": "python",
   "name": "python3"
  },
  "language_info": {
   "codemirror_mode": {
    "name": "ipython",
    "version": 3
   },
   "file_extension": ".py",
   "mimetype": "text/x-python",
   "name": "python",
   "nbconvert_exporter": "python",
   "pygments_lexer": "ipython3",
   "version": "3.8.10"
  },
  "orig_nbformat": 4,
  "vscode": {
   "interpreter": {
    "hash": "f544ce1a915a9875fad91c894e2c0bcad4b7a79945aa6027ef3ad27810072aa6"
   }
  }
 },
 "nbformat": 4,
 "nbformat_minor": 2
}
